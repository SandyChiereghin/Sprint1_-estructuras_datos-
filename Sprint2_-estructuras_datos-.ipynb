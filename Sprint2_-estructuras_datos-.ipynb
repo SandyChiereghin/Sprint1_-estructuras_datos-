{
 "cells": [
  {
   "cell_type": "markdown",
   "id": "90ee1d5c",
   "metadata": {},
   "source": [
    "## Sprint2_-estructuras_datos-"
   ]
  },
  {
   "cell_type": "markdown",
   "id": "fc3259cb",
   "metadata": {},
   "source": [
    "#### Ex. 1_"
   ]
  },
  {
   "cell_type": "code",
   "execution_count": 1,
   "id": "877bd009",
   "metadata": {},
   "outputs": [
    {
     "name": "stdout",
     "output_type": "stream",
     "text": [
      "[['Enero', 'Febrero', 'Marzo'], ['Abril', 'Mayo', 'Junio'], ['Julio', 'Agosto', 'Septiembre'], ['Octuble', 'Noviembre', 'Diciembre']]\n"
     ]
    }
   ],
   "source": [
    "\n",
    "trimestres = [[\"Enero\",\"Febrero\",\"Marzo\"],[\"Abril\",\"Mayo\",\"Junio\"],[\"Julio\",\"Agosto\",\"Septiembre\"] ,\n",
    "              [\"Octuble\",\"Noviembre\",\"Diciembre\"] ]\n",
    "\n",
    "print (trimestres)"
   ]
  },
  {
   "cell_type": "markdown",
   "id": "d90b1255",
   "metadata": {},
   "source": [
    "#### Ex. 2_"
   ]
  },
  {
   "cell_type": "markdown",
   "id": "399f5874",
   "metadata": {},
   "source": [
    "Crea un código que te permita acceder a:\n",
    "\n",
    "1. El segundo mes del primer trimestre\n",
    "2. Los meses del primer trimestre\n",
    "3. Septiembre y octubre\n"
   ]
  },
  {
   "cell_type": "code",
   "execution_count": 7,
   "id": "b3e8b064",
   "metadata": {},
   "outputs": [
    {
     "name": "stdout",
     "output_type": "stream",
     "text": [
      "Febrero\n",
      "['Enero', 'Febrero', 'Marzo']\n",
      "Septiembre Octuble\n"
     ]
    }
   ],
   "source": [
    "print (trimestres[0][1])\n",
    "print (trimestres [0])\n",
    "print (trimestres[2][2],trimestres[3][0])"
   ]
  },
  {
   "cell_type": "markdown",
   "id": "436c7371",
   "metadata": {},
   "source": [
    "### Ex. 3_"
   ]
  },
  {
   "cell_type": "markdown",
   "id": "b8dcdf1f",
   "metadata": {},
   "source": [
    "Crea una lista con números desordenados y responde a las siguientes preguntas:\n",
    "\n",
    "1. ¿Cuántos números hay?\n",
    "2. Cuántas veces aparece el número 3\n",
    "3. ¿Cuántas veces aparecen los números 3 y 4?\n",
    "4. ¿Cuál es el mayor número?\n",
    "5. ¿Cuáles son los 3 números más pequeños?\n",
    "6. ¿Cuál es el rango de esa lista?"
   ]
  },
  {
   "cell_type": "code",
   "execution_count": 13,
   "id": "25729153",
   "metadata": {},
   "outputs": [
    {
     "name": "stdout",
     "output_type": "stream",
     "text": [
      "Los números presentes en la lista son:  6\n",
      "El numero 3 se repite:  2  veces.\n",
      "El numero 3 se repite:  2  veces, y el número 4 se repite:  0  veces.\n",
      "El maximo valor de la lista es:  9\n",
      "Los tres elementos minimos de la lista son:  [1, 3, 3]\n",
      "El rango es:  8\n"
     ]
    }
   ],
   "source": [
    "listaNum = [3,6,5,1,9,3]\n",
    "print(\"Los números presentes en la lista son: \",len(listaNum))\n",
    "print(\"El numero 3 se repite: \", listaNum.count(3), \" veces.\")\n",
    "\n",
    "print(\"El numero 3 se repite: \", listaNum.count(3) , \" veces, y el número 4 se repite: \",\n",
    "listaNum.count(4), \" veces.\")\n",
    "\n",
    "maxValor = max(listaNum)\n",
    "print(\"El maximo valor de la lista es: \", maxValor)\n",
    "\n",
    "minValor = min(listaNum)\n",
    "\n",
    "n = 3\n",
    "listaNum.sort()\n",
    "#print (listaNum)\n",
    "print(\"Los tres elementos minimos de la lista son: \", listaNum[:3] )\n",
    "\n",
    "range = maxValor - minValor\n",
    "print (\"El rango es: \",range)\n",
    "\n",
    "    \n",
    "\n",
    " "
   ]
  },
  {
   "cell_type": "markdown",
   "id": "c2310b18",
   "metadata": {},
   "source": [
    "#### Ex. 4_"
   ]
  },
  {
   "cell_type": "markdown",
   "id": "cb2c6555",
   "metadata": {},
   "source": [
    "Crea un diccionari de la següent forma i respon a les preguntes:\n",
    "\n",
    "compra = { \"Pomes\" : {\"Qty\": 5, \"€\": 0.42}, \"Peres\" : {\"Qty\": 3, \"€\": 0.66} }\n",
    "\n",
    "1. Afegeix alguna fruita més\n",
    "2. Quant han costat les peres en total?\n",
    "3. Quantes fruites hem comprat en total?\n",
    "4. Quina és la fruita més cara?"
   ]
  },
  {
   "cell_type": "code",
   "execution_count": 47,
   "id": "23dbced3",
   "metadata": {},
   "outputs": [
    {
     "name": "stdout",
     "output_type": "stream",
     "text": [
      "{'Pomes': {'Qty': 5, '€': 0.42}, 'Peres': {'Qty': 3, '€': 0.66}}\n",
      "La nueva lista de la compra es:  {'Pomes': {'Qty': 5, '€': 0.42}, 'Peres': {'Qty': 3, '€': 0.66}, 'Piñas': {'Qty': 8, '€': 0.7}}\n",
      "El coste total de las peras es:  1.98\n",
      "En total hemos comprado:  16  piezas de fruta.\n",
      "--------------------------------\n",
      "La fruta más cara es:  Piñas\n"
     ]
    }
   ],
   "source": [
    "compra = { \"Pomes\" : {\"Qty\": 5, \"€\": 0.42}, \"Peres\" : {\"Qty\": 3, \"€\": 0.66} }\n",
    "print (compra)\n",
    "\n",
    "compra.update({\"Piñas\" : {\"Qty\": 8, \"€\": 0.70}})\n",
    "\n",
    "print (\"La nueva lista de la compra es: \", compra)\n",
    "\n",
    "cantidadPeras = compra.get(\"Peres\").get(\"Qty\")\n",
    "costePeras = compra.get(\"Peres\").get(\"€\")\n",
    "\n",
    "costeTotalPeras = cantidadPeras * costePeras\n",
    "\n",
    "print (\"El coste total de las peras es: \",costeTotalPeras)\n",
    "\n",
    "\n",
    "cantidadPomes = compra.get(\"Pomes\").get(\"Qty\")\n",
    "cantidadPiñas = compra.get(\"Piñas\").get(\"Qty\")\n",
    "\n",
    "print (\"En total hemos comprado: \",cantidadPeras + cantidadPomes + cantidadPiñas, \" piezas de fruta.\")\n",
    "\n",
    "print(\"--------------------------------\")\n",
    "\n",
    "costePomes = compra.get(\"Pomes\").get(\"€\")\n",
    "costePiñas = compra.get(\"Piñas\").get(\"€\")\n",
    "\n",
    "\n",
    "listaCostes = {\"Peres\":costePeras,\"Pomes\":costePomes,\"Piñas\":costePiñas}\n",
    "\n",
    "x = list(listaCostes.values())\n",
    "\n",
    "k = list(listaCostes.keys())\n",
    " \n",
    "print(\"La fruta más cara es: \", k[x.index(max(x))])\n",
    "\n",
    "\n",
    "    "
   ]
  },
  {
   "cell_type": "code",
   "execution_count": null,
   "id": "b2cb92a7",
   "metadata": {},
   "outputs": [],
   "source": []
  }
 ],
 "metadata": {
  "kernelspec": {
   "display_name": "Python 3 (ipykernel)",
   "language": "python",
   "name": "python3"
  },
  "language_info": {
   "codemirror_mode": {
    "name": "ipython",
    "version": 3
   },
   "file_extension": ".py",
   "mimetype": "text/x-python",
   "name": "python",
   "nbconvert_exporter": "python",
   "pygments_lexer": "ipython3",
   "version": "3.9.7"
  }
 },
 "nbformat": 4,
 "nbformat_minor": 5
}
